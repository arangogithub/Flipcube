{
 "cells": [
  {
   "cell_type": "code",
   "execution_count": 73,
   "metadata": {},
   "outputs": [],
   "source": [
    "import numpy as np\n",
    "import matplotlib.pyplot as plt\n",
    "import itertools as it\n",
    "import json\n",
    "import matplotlib.patches as patches\n",
    "import collections\n",
    "from random import randint\n",
    "import random"
   ]
  },
  {
   "cell_type": "code",
   "execution_count": 74,
   "metadata": {},
   "outputs": [],
   "source": [
    "colors = {'g': 'green',\n",
    "          'b': 'blue',\n",
    "          'y': 'yellow',\n",
    "          'p': 'purple',\n",
    "          's': 'grey',\n",
    "          'o': 'orange',\n",
    "          'w': 'white',\n",
    "          'r': 'red'  \n",
    "        }"
   ]
  },
  {
   "cell_type": "code",
   "execution_count": 75,
   "metadata": {},
   "outputs": [],
   "source": [
    "diskColors = [\"g\", \"b\"]\n",
    "sideColors = [\"y\", \"p\", \"s\", \"o\", \"w\", \"r\"]"
   ]
  },
  {
   "cell_type": "code",
   "execution_count": 76,
   "metadata": {},
   "outputs": [],
   "source": [
    "pieces =  it.chain.from_iterable(zip(diskColors,[x,x]) for x in sideColors)\n"
   ]
  },
  {
   "cell_type": "code",
   "execution_count": 77,
   "metadata": {},
   "outputs": [],
   "source": [
    "config = it.permutations(pieces)\n"
   ]
  },
  {
   "cell_type": "code",
   "execution_count": 78,
   "metadata": {},
   "outputs": [],
   "source": [
    "Done = [('g', 'y'),\n",
    " ('g', 'p'),\n",
    " ('g', 'r'),\n",
    " ('g', 'w'),\n",
    " ('g', 's'),\n",
    " ('g', 'o'),\n",
    " ('b', 'y'),\n",
    " ('b', 'p'),\n",
    " ('b', 'r'),\n",
    " ('b', 'w'),\n",
    " ('b', 's'),\n",
    " ('b', 'o')]"
   ]
  },
  {
   "cell_type": "code",
   "execution_count": 79,
   "metadata": {},
   "outputs": [],
   "source": [
    "def decomposition(lst):\n",
    "    tt = [a[0] for a in lst][0:6]  \n",
    "    mt = [a[1] for a in lst][0:6]\n",
    "    mb = [a[1] for a in lst][6:12]\n",
    "    bb = [a[0] for a in lst][6:12] \n",
    "    return (tt, mt, mb, bb)"
   ]
  },
  {
   "cell_type": "code",
   "execution_count": 80,
   "metadata": {},
   "outputs": [],
   "source": [
    "def halfFlip(cf):\n",
    "    lst = cf*1\n",
    "    lst[0],lst[1],lst[2],lst[6],lst[7],lst[8] = lst[8],lst[7],lst[6], lst[2], lst[1], lst[0]\n",
    "    return lst"
   ]
  },
  {
   "cell_type": "code",
   "execution_count": 81,
   "metadata": {},
   "outputs": [],
   "source": [
    "def totalRot(n, cf):\n",
    "    t, b = cf[0:6], cf[6:12]\n",
    "    t, b = collections.deque(t), collections.deque(b)\n",
    "    t.rotate(n)\n",
    "    b.rotate(n)\n",
    "    return list(t+b)"
   ]
  },
  {
   "cell_type": "code",
   "execution_count": 82,
   "metadata": {},
   "outputs": [],
   "source": [
    "def topRot(n, cf):\n",
    "    t, b = cf[0:6], cf[6:12]\n",
    "    t, b = collections.deque(t), collections.deque(b)\n",
    "    t.rotate(n)\n",
    "    b.rotate(0)\n",
    "    return list(t+b)"
   ]
  },
  {
   "cell_type": "code",
   "execution_count": 83,
   "metadata": {},
   "outputs": [],
   "source": [
    "def bottRot(n, cf):\n",
    "    t, b = cf[0:6], cf[6:12]\n",
    "    t, b = collections.deque(t), collections.deque(b)\n",
    "    t.rotate(0)\n",
    "    b.rotate(n)\n",
    "    return list(t+b)"
   ]
  },
  {
   "cell_type": "code",
   "execution_count": 84,
   "metadata": {},
   "outputs": [],
   "source": [
    "def flip(cf):\n",
    "    cf.reverse()\n",
    "    return cf"
   ]
  },
  {
   "cell_type": "code",
   "execution_count": 85,
   "metadata": {},
   "outputs": [],
   "source": [
    "def equiv_class(cf):\n",
    "    \"flippings and  (whole) rotations of a given configuration of the  puzzle \"\n",
    "    ec = []\n",
    "    for n in range(6):\n",
    "        tR = totalRot(n,cf)\n",
    "        ec.append(tR)\n",
    "        tR.reverse()\n",
    "        ec.append(tR)\n",
    "    return ec"
   ]
  },
  {
   "cell_type": "code",
   "execution_count": 86,
   "metadata": {},
   "outputs": [],
   "source": [
    "def check_identity(x,y):\n",
    "    d, S = False, equiv_class(y)\n",
    "    if S.count(x) > 0: d = True\n",
    "    return d"
   ]
  },
  {
   "cell_type": "code",
   "execution_count": 87,
   "metadata": {},
   "outputs": [],
   "source": [
    "def sphere(cf):\n",
    "    sph = []\n",
    "    sph.append(halfFlip(cf))\n",
    "    for n in [1,2,3,4,5]:\n",
    "        tR, bR = topRot(n,cf), bottRot(n,cf)\n",
    "        sph.append(tR)\n",
    "        sph.append(bR)\n",
    "        sph.append(halfFlip(tR))\n",
    "        sph.append(halfFlip(bR))\n",
    "    return sph"
   ]
  },
  {
   "cell_type": "code",
   "execution_count": 88,
   "metadata": {},
   "outputs": [],
   "source": [
    "def select(cf):\n",
    "    sph = sphere(cf)\n",
    "    n = len(sph)\n",
    "    p = randint(0, n-1) \n",
    "    return sph[p]"
   ]
  },
  {
   "cell_type": "markdown",
   "metadata": {},
   "source": [
    "# New distance function"
   ]
  },
  {
   "cell_type": "markdown",
   "metadata": {},
   "source": [
    "If we define the distance between two configurations as the minimum number of steps to go from one to other, maybe this code would work.(I have no tested it)."
   ]
  },
  {
   "cell_type": "code",
   "execution_count": 89,
   "metadata": {},
   "outputs": [],
   "source": [
    "\n",
    "def distance(ci,cf):\n",
    "\n",
    "    steps=0 \n",
    "    if  not check_identity(ci,cf):\n",
    "        main_level =set(sphere(ci))\n",
    "        steps=1  \n",
    "\n",
    "        def check_main_level(cf,config_list):\n",
    "\n",
    "            nonlocal  steps \n",
    "            \n",
    "            def lower_level(config_list):\n",
    "                \n",
    "                sett=set() \n",
    "                for i in config_list:\n",
    "                \n",
    "                    sett.update(q for q in sphere(i) if q not in config_list)\n",
    "                    \n",
    "                main_level=sett\n",
    "                check_main_level(cf,main_level)  \n",
    "                \n",
    "                \n",
    "            var=False    \n",
    "            for i in config_list:\n",
    "                if check_identity(i,cf):\n",
    "                    var=True\n",
    "            if not var:\n",
    "                steps+=1\n",
    "                lower_level(config_list)\n",
    "                \n",
    "                \n",
    "        check_main_level(cf, main_level) \n",
    "              \n",
    "    return steps  \n",
    "    \n",
    "\n",
    "\n"
   ]
  },
  {
   "cell_type": "code",
   "execution_count": null,
   "metadata": {},
   "outputs": [],
   "source": []
  }
 ],
 "metadata": {
  "kernelspec": {
   "display_name": "python3 (jup)",
   "language": "python",
   "name": "jup"
  },
  "language_info": {
   "codemirror_mode": {
    "name": "ipython",
    "version": 3
   },
   "file_extension": ".py",
   "mimetype": "text/x-python",
   "name": "python",
   "nbconvert_exporter": "python",
   "pygments_lexer": "ipython3",
   "version": "3.6.5"
  }
 },
 "nbformat": 4,
 "nbformat_minor": 4
}
